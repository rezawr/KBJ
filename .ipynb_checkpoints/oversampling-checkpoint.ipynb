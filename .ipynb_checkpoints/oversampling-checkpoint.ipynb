{
 "cells": [
  {
   "cell_type": "code",
   "execution_count": 1,
   "id": "6a7c8b0f",
   "metadata": {},
   "outputs": [],
   "source": [
    "import pandas as pd\n",
    "import seaborn as sns\n",
    "import matplotlib.pyplot as plt\n",
    "\n",
    "from imblearn.over_sampling import SMOTE\n",
    "from imblearn.pipeline import Pipeline, make_pipeline\n",
    "from sklearn.feature_extraction.text import CountVectorizer\n",
    "from sklearn.feature_extraction.text import TfidfTransformer\n",
    "from sklearn.model_selection import train_test_split\n",
    "from sklearn.metrics import accuracy_score, f1_score, precision_score, recall_score, confusion_matrix\n",
    "from sklearn.naive_bayes import MultinomialNB\n",
    "from sklearn.ensemble import GradientBoostingClassifier, AdaBoostClassifier, ExtraTreesClassifier, RandomForestClassifier"
   ]
  },
  {
   "cell_type": "code",
   "execution_count": 2,
   "id": "87502d68",
   "metadata": {},
   "outputs": [
    {
     "data": {
      "text/html": [
       "<div>\n",
       "<style scoped>\n",
       "    .dataframe tbody tr th:only-of-type {\n",
       "        vertical-align: middle;\n",
       "    }\n",
       "\n",
       "    .dataframe tbody tr th {\n",
       "        vertical-align: top;\n",
       "    }\n",
       "\n",
       "    .dataframe thead th {\n",
       "        text-align: right;\n",
       "    }\n",
       "</style>\n",
       "<table border=\"1\" class=\"dataframe\">\n",
       "  <thead>\n",
       "    <tr style=\"text-align: right;\">\n",
       "      <th></th>\n",
       "      <th>text</th>\n",
       "      <th>label</th>\n",
       "    </tr>\n",
       "  </thead>\n",
       "  <tbody>\n",
       "    <tr>\n",
       "      <th>0</th>\n",
       "      <td>I grew up (b. 1965) watching and loving the Th...</td>\n",
       "      <td>0</td>\n",
       "    </tr>\n",
       "    <tr>\n",
       "      <th>1</th>\n",
       "      <td>When I put this movie in my DVD player, and sa...</td>\n",
       "      <td>0</td>\n",
       "    </tr>\n",
       "    <tr>\n",
       "      <th>2</th>\n",
       "      <td>Why do people who do not know what a particula...</td>\n",
       "      <td>0</td>\n",
       "    </tr>\n",
       "    <tr>\n",
       "      <th>3</th>\n",
       "      <td>Even though I have great interest in Biblical ...</td>\n",
       "      <td>0</td>\n",
       "    </tr>\n",
       "    <tr>\n",
       "      <th>4</th>\n",
       "      <td>Im a die hard Dads Army fan and nothing will e...</td>\n",
       "      <td>1</td>\n",
       "    </tr>\n",
       "  </tbody>\n",
       "</table>\n",
       "</div>"
      ],
      "text/plain": [
       "                                                text  label\n",
       "0  I grew up (b. 1965) watching and loving the Th...      0\n",
       "1  When I put this movie in my DVD player, and sa...      0\n",
       "2  Why do people who do not know what a particula...      0\n",
       "3  Even though I have great interest in Biblical ...      0\n",
       "4  Im a die hard Dads Army fan and nothing will e...      1"
      ]
     },
     "execution_count": 2,
     "metadata": {},
     "output_type": "execute_result"
    }
   ],
   "source": [
    "# Import datasets\n",
    "df = pd.read_csv('datasets/movie.csv')\n",
    "df.head()"
   ]
  },
  {
   "cell_type": "code",
   "execution_count": 3,
   "id": "e4cfd4c0",
   "metadata": {},
   "outputs": [
    {
     "data": {
      "text/plain": [
       "label\n",
       "0    20019\n",
       "1    19981\n",
       "Name: count, dtype: int64"
      ]
     },
     "execution_count": 3,
     "metadata": {},
     "output_type": "execute_result"
    }
   ],
   "source": [
    "df['label'].value_counts()"
   ]
  },
  {
   "cell_type": "code",
   "execution_count": 4,
   "id": "0be2bd19",
   "metadata": {},
   "outputs": [
    {
     "data": {
      "text/plain": [
       "((20019, 2), (19981, 2))"
      ]
     },
     "execution_count": 4,
     "metadata": {},
     "output_type": "execute_result"
    }
   ],
   "source": [
    "negative = df[df['label']==0]\n",
    "positive = df[df['label']==1]\n",
    "negative.shape, positive.shape"
   ]
  },
  {
   "cell_type": "code",
   "execution_count": 10,
   "id": "55c82055",
   "metadata": {},
   "outputs": [
    {
     "data": {
      "text/plain": [
       "((30000,), (10000,))"
      ]
     },
     "execution_count": 10,
     "metadata": {},
     "output_type": "execute_result"
    }
   ],
   "source": [
    "# Split the dataset into training and testing sets\n",
    "X_train, X_test, y_train, y_test = train_test_split(df['text'], df['label'], random_state=0)\n",
    "X_train.shape, X_test.shape"
   ]
  },
  {
   "cell_type": "code",
   "execution_count": null,
   "id": "ef0db188",
   "metadata": {},
   "outputs": [],
   "source": [
    "# Naive Bayes Classification\n",
    "textclassifier = Pipeline([\n",
    "    ('vect', CountVectorizer()),\n",
    "    ('tfidf', TfidfTransformer()),\n",
    "    ('smote', SMOTE(random_state=12)),\n",
    "    ('mnb', MultinomialNB(alpha =0.1))\n",
    "])\n",
    "\n",
    "textclassifier.fit(X_train, y_train)\n",
    "nb_pred = textclassifier.predict(X_test)\n",
    "\n",
    "print('Naive Bayes classifier:')\n",
    "print('Accuracy:', accuracy_score(y_test, nb_pred))\n",
    "print('F1 score:', f1_score(y_test, nb_pred, average='weighted'))\n",
    "print('Precision:', precision_score(y_test, nb_pred, average='weighted'))\n",
    "print('Recall:', recall_score(y_test, nb_pred, average='weighted'))\n",
    "\n",
    "# Naive bayes Confusion Matriks\n",
    "nb_cm = confusion_matrix(y_test, nb_pred)\n",
    "sns.heatmap(nb_cm, annot=True, fmt='d', cmap='Blues')\n",
    "plt.title('Naive Bayes Classifier Confusion Matrix')\n",
    "plt.show()"
   ]
  },
  {
   "cell_type": "code",
   "execution_count": null,
   "id": "0cb2f2c3",
   "metadata": {},
   "outputs": [],
   "source": [
    "# Gradient Boosting\n",
    "textclassifier = Pipeline([\n",
    "    ('vect', CountVectorizer()),\n",
    "    ('tfidf', TfidfTransformer()),\n",
    "    ('smote', SMOTE(random_state=12)),\n",
    "    ('mnb', GradientBoostingClassifier())\n",
    "])\n",
    "\n",
    "textclassifier.fit(X_train, y_train)\n",
    "\n",
    "gb_pred = textclassifier.predict(X_test)\n",
    "\n",
    "print('Gradient Boosting classifier:')\n",
    "print('Accuracy:', accuracy_score(y_test, gb_pred))\n",
    "print('F1 score:', f1_score(y_test, gb_pred, average='weighted'))\n",
    "print('Precision:', precision_score(y_test, gb_pred, average='weighted'))\n",
    "print('Recall:', recall_score(y_test, gb_pred, average='weighted'))\n",
    "\n",
    "# Gradient Boosting Confusion Matriks\n",
    "gb_cm = confusion_matrix(y_test, gb_pred)\n",
    "sns.heatmap(gb_cm, annot=True, fmt='d', cmap='Blues')\n",
    "plt.title('Gradient Boosting Classifier Confusion Matrix')\n",
    "plt.show()"
   ]
  },
  {
   "cell_type": "code",
   "execution_count": null,
   "id": "a14682bc",
   "metadata": {},
   "outputs": [],
   "source": [
    "# Adaboost Classifier\n",
    "textclassifier = Pipeline([\n",
    "    ('vect', CountVectorizer()),\n",
    "    ('tfidf', TfidfTransformer()),\n",
    "    ('smote', SMOTE(random_state=12)),\n",
    "    ('mnb', AdaBoostClassifier())\n",
    "])\n",
    "\n",
    "textclassifier.fit(X_train, y_train)\n",
    "\n",
    "ac_pred = textclassifier.predict(X_test)\n",
    "\n",
    "print('Adaboost classifier:')\n",
    "print('Accuracy:', accuracy_score(y_test, ac_pred))\n",
    "print('F1 score:', f1_score(y_test, ac_pred, average='weighted'))\n",
    "print('Precision:', precision_score(y_test, ac_pred, average='weighted'))\n",
    "print('Recall:', recall_score(y_test, ac_pred, average='weighted'))\n",
    "\n",
    "# Adaboost Confusion Matriks\n",
    "ac_cm = confusion_matrix(y_test, ac_pred)\n",
    "sns.heatmap(ac_cm, annot=True, fmt='d', cmap='Blues')\n",
    "plt.title('Adaboost Classifier Confusion Matrix')\n",
    "plt.show()"
   ]
  }
 ],
 "metadata": {
  "kernelspec": {
   "display_name": "Python 3 (ipykernel)",
   "language": "python",
   "name": "python3"
  },
  "language_info": {
   "codemirror_mode": {
    "name": "ipython",
    "version": 3
   },
   "file_extension": ".py",
   "mimetype": "text/x-python",
   "name": "python",
   "nbconvert_exporter": "python",
   "pygments_lexer": "ipython3",
   "version": "3.8.10"
  }
 },
 "nbformat": 4,
 "nbformat_minor": 5
}
